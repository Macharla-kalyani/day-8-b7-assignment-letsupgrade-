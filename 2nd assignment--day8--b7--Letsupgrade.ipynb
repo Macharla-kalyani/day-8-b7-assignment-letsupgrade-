{
 "cells": [
  {
   "cell_type": "code",
   "execution_count": 4,
   "metadata": {},
   "outputs": [
    {
     "name": "stdout",
     "output_type": "stream",
     "text": [
      "sorry it is not possible to write,it is in read mode\n"
     ]
    }
   ],
   "source": [
    "file=open(\"Aghoris.docx\",\"r\")\n",
    "try:\n",
    "    file.write(\"Aghoris are the people who search happieness in nothing,in the process of salvation\")\n",
    "except:\n",
    "    print(\"sorry it is not possible to write,it is in read mode\")\n",
    "file.close()\n"
   ]
  },
  {
   "cell_type": "code",
   "execution_count": null,
   "metadata": {},
   "outputs": [],
   "source": []
  }
 ],
 "metadata": {
  "kernelspec": {
   "display_name": "Python 3",
   "language": "python",
   "name": "python3"
  },
  "language_info": {
   "codemirror_mode": {
    "name": "ipython",
    "version": 3
   },
   "file_extension": ".py",
   "mimetype": "text/x-python",
   "name": "python",
   "nbconvert_exporter": "python",
   "pygments_lexer": "ipython3",
   "version": "3.7.1"
  }
 },
 "nbformat": 4,
 "nbformat_minor": 2
}
